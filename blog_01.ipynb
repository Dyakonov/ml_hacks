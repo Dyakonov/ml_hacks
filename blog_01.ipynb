{
 "cells": [
  {
   "cell_type": "markdown",
   "metadata": {},
   "source": [
    "# код для заметки блога \"Scikit-Learn: тонкие вопросы о реализации методов машинного обучения\"\n",
    "\n",
    "https://dyakonov.org/2021/03/03/ml-scikit-learn/"
   ]
  },
  {
   "cell_type": "code",
   "execution_count": 87,
   "metadata": {},
   "outputs": [
    {
     "name": "stdout",
     "output_type": "stream",
     "text": [
      "Populating the interactive namespace from numpy and matplotlib\n"
     ]
    }
   ],
   "source": [
    "import pandas as pd\n",
    "import numpy as np\n",
    "%pylab inline\n",
    "plt.style.use('seaborn-dark')\n",
    "import warnings\n",
    "warnings.filterwarnings(\"ignore\") # отключение варнингов\n",
    "pd.set_option('display.max_columns', None) # pd.options.display.max_columns = None \n",
    "# pd.set_option('display.max_rows', None) # не прятать столбцы при выводе дата-фреймов\n",
    "import matplotlib.pyplot as plt\n",
    "import matplotlib as mpl\n",
    "plt.rc('font', size=14)"
   ]
  },
  {
   "cell_type": "code",
   "execution_count": 88,
   "metadata": {},
   "outputs": [],
   "source": [
    "# для картинки\n",
    "from dj_booklib_v3 import *"
   ]
  },
  {
   "cell_type": "markdown",
   "metadata": {},
   "source": [
    "## к вопросу о svm"
   ]
  },
  {
   "cell_type": "code",
   "execution_count": 89,
   "metadata": {},
   "outputs": [
    {
     "name": "stdout",
     "output_type": "stream",
     "text": [
      "предсказания: [0 1]\n",
      "вероятности: [0.64550527 0.35658176]\n",
      "[-0.891277055847369, 0, 0.8912770558473689]\n"
     ]
    },
    {
     "data": {
      "image/png": "[encoded data removed]",
      "text/plain": [
       "<Figure size 288x216 with 1 Axes>"
      ]
     },
     "metadata": {},
     "output_type": "display_data"
    }
   ],
   "source": [
    "X = [[0, 0], [1, 1]] # обучение \n",
    "y = [0, 1]\n",
    "X2 = X.copy() # контроль\n",
    "\n",
    "from sklearn.svm import SVC\n",
    "svm = SVC(kernel='rbf', gamma=1.0, probability=True)\n",
    "svm.fit(X, y)\n",
    "\n",
    "a = svm.predict(X2)\n",
    "p = svm.predict_proba(X2)\n",
    "print (f'предсказания: {a}')\n",
    "print (f'вероятности: {p[:,1]}')\n",
    "\n",
    "\n",
    "\n",
    "X = np.array(X)\n",
    "y = np.array(y)\n",
    "\n",
    "plt.figure(figsize=(4, 3))\n",
    "plot_2d_separator(svm, X, fill=True, twocolor=True);\n",
    "show_scatter(X[:, 0], X[: ,1], y, figsize=(4, 3.5),\n",
    "             size=100, eps=0.2, newfig=False, show_legend=True);"
   ]
  },
  {
   "cell_type": "code",
   "execution_count": 90,
   "metadata": {},
   "outputs": [
    {
     "ename": "ValueError",
     "evalue": "Cannot have number of splits n_splits=5 greater than the number of samples: n_samples=2.",
     "output_type": "error",
     "traceback": [
      "\u001b[0;31m---------------------------------------------------------------------------\u001b[0m",
      "\u001b[0;31mValueError\u001b[0m                                Traceback (most recent call last)",
      "\u001b[0;32m<ipython-input-90-94caf026725a>\u001b[0m in \u001b[0;36m<module>\u001b[0;34m\u001b[0m\n\u001b[1;32m      2\u001b[0m \u001b[0;34m\u001b[0m\u001b[0m\n\u001b[1;32m      3\u001b[0m \u001b[0mcalibrated_clf\u001b[0m \u001b[0;34m=\u001b[0m \u001b[0mCalibratedClassifierCV\u001b[0m\u001b[0;34m(\u001b[0m\u001b[0mbase_estimator\u001b[0m\u001b[0;34m=\u001b[0m\u001b[0msvm\u001b[0m\u001b[0;34m)\u001b[0m\u001b[0;34m\u001b[0m\u001b[0;34m\u001b[0m\u001b[0m\n\u001b[0;32m----> 4\u001b[0;31m \u001b[0mcalibrated_clf\u001b[0m\u001b[0;34m.\u001b[0m\u001b[0mfit\u001b[0m\u001b[0;34m(\u001b[0m\u001b[0mX\u001b[0m\u001b[0;34m,\u001b[0m \u001b[0my\u001b[0m\u001b[0;34m)\u001b[0m\u001b[0;34m\u001b[0m\u001b[0;34m\u001b[0m\u001b[0m\n\u001b[0m\u001b[1;32m      5\u001b[0m \u001b[0mcalibrated_clf\u001b[0m\u001b[0;34m.\u001b[0m\u001b[0mpredict_proba\u001b[0m\u001b[0;34m(\u001b[0m\u001b[0mX\u001b[0m\u001b[0;34m)\u001b[0m\u001b[0;34m\u001b[0m\u001b[0;34m\u001b[0m\u001b[0m\n",
      "\u001b[0;32m~/anaconda3/lib/python3.7/site-packages/sklearn/calibration.py\u001b[0m in \u001b[0;36mfit\u001b[0;34m(self, X, y, sample_weight)\u001b[0m\n\u001b[1;32m    180\u001b[0m                     \u001b[0msample_weight\u001b[0m \u001b[0;34m=\u001b[0m \u001b[0m_check_sample_weight\u001b[0m\u001b[0;34m(\u001b[0m\u001b[0msample_weight\u001b[0m\u001b[0;34m,\u001b[0m \u001b[0mX\u001b[0m\u001b[0;34m)\u001b[0m\u001b[0;34m\u001b[0m\u001b[0;34m\u001b[0m\u001b[0m\n\u001b[1;32m    181\u001b[0m                 \u001b[0mbase_estimator_sample_weight\u001b[0m \u001b[0;34m=\u001b[0m \u001b[0msample_weight\u001b[0m\u001b[0;34m\u001b[0m\u001b[0;34m\u001b[0m\u001b[0m\n\u001b[0;32m--> 182\u001b[0;31m             \u001b[0;32mfor\u001b[0m \u001b[0mtrain\u001b[0m\u001b[0;34m,\u001b[0m \u001b[0mtest\u001b[0m \u001b[0;32min\u001b[0m \u001b[0mcv\u001b[0m\u001b[0;34m.\u001b[0m\u001b[0msplit\u001b[0m\u001b[0;34m(\u001b[0m\u001b[0mX\u001b[0m\u001b[0;34m,\u001b[0m \u001b[0my\u001b[0m\u001b[0;34m)\u001b[0m\u001b[0;34m:\u001b[0m\u001b[0;34m\u001b[0m\u001b[0;34m\u001b[0m\u001b[0m\n\u001b[0m\u001b[1;32m    183\u001b[0m                 \u001b[0mthis_estimator\u001b[0m \u001b[0;34m=\u001b[0m \u001b[0mclone\u001b[0m\u001b[0;34m(\u001b[0m\u001b[0mbase_estimator\u001b[0m\u001b[0;34m)\u001b[0m\u001b[0;34m\u001b[0m\u001b[0;34m\u001b[0m\u001b[0m\n\u001b[1;32m    184\u001b[0m                 \u001b[0;32mif\u001b[0m \u001b[0mbase_estimator_sample_weight\u001b[0m \u001b[0;32mis\u001b[0m \u001b[0;32mnot\u001b[0m \u001b[0;32mNone\u001b[0m\u001b[0;34m:\u001b[0m\u001b[0;34m\u001b[0m\u001b[0;34m\u001b[0m\u001b[0m\n",
      "\u001b[0;32m~/anaconda3/lib/python3.7/site-packages/sklearn/model_selection/_split.py\u001b[0m in \u001b[0;36msplit\u001b[0;34m(self, X, y, groups)\u001b[0m\n\u001b[1;32m    331\u001b[0m                 (\"Cannot have number of splits n_splits={0} greater\"\n\u001b[1;32m    332\u001b[0m                  \" than the number of samples: n_samples={1}.\")\n\u001b[0;32m--> 333\u001b[0;31m                 .format(self.n_splits, n_samples))\n\u001b[0m\u001b[1;32m    334\u001b[0m \u001b[0;34m\u001b[0m\u001b[0m\n\u001b[1;32m    335\u001b[0m         \u001b[0;32mfor\u001b[0m \u001b[0mtrain\u001b[0m\u001b[0;34m,\u001b[0m \u001b[0mtest\u001b[0m \u001b[0;32min\u001b[0m \u001b[0msuper\u001b[0m\u001b[0;34m(\u001b[0m\u001b[0;34m)\u001b[0m\u001b[0;34m.\u001b[0m\u001b[0msplit\u001b[0m\u001b[0;34m(\u001b[0m\u001b[0mX\u001b[0m\u001b[0;34m,\u001b[0m \u001b[0my\u001b[0m\u001b[0;34m,\u001b[0m \u001b[0mgroups\u001b[0m\u001b[0;34m)\u001b[0m\u001b[0;34m:\u001b[0m\u001b[0;34m\u001b[0m\u001b[0;34m\u001b[0m\u001b[0m\n",
      "\u001b[0;31mValueError\u001b[0m: Cannot have number of splits n_splits=5 greater than the number of samples: n_samples=2."
     ]
    }
   ],
   "source": [
    "from sklearn.calibration import CalibratedClassifierCV\n",
    "\n",
    "calibrated_clf = CalibratedClassifierCV(base_estimator=svm)\n",
    "calibrated_clf.fit(X, y)\n",
    "calibrated_clf.predict_proba(X)"
   ]
  },
  {
   "cell_type": "code",
   "execution_count": 91,
   "metadata": {},
   "outputs": [
    {
     "name": "stdout",
     "output_type": "stream",
     "text": [
      "предсказания: [0 1]\n",
      "вероятности: [0.08333339 0.91680141]\n"
     ]
    }
   ],
   "source": [
    "X = [[0, 0], [1, 1]] # обучение \n",
    "y = [0, 1]\n",
    "X2 = X.copy() # контроль\n",
    "\n",
    "X = X * 10 # дублируем объекты\n",
    "y = y * 10\n",
    "\n",
    "from sklearn.svm import SVC\n",
    "svm = SVC(kernel='rbf', gamma=1.0, probability=True)\n",
    "svm.fit(X, y)\n",
    "\n",
    "a = svm.predict(X2)\n",
    "p = svm.predict_proba(X2)\n",
    "print (f'предсказания: {a}')\n",
    "print (f'вероятности: {p[:,1]}')"
   ]
  },
  {
   "cell_type": "code",
   "execution_count": null,
   "metadata": {},
   "outputs": [],
   "source": [
    "class sklearn.linear_model.Ridge(alpha=1.0, # Regularization strength\n",
    "                                 fit_intercept=True, normalize=False,\n",
    "                                 copy_X=True, max_iter=None, tol=0.001,\n",
    "                                 solver='auto', random_state=None)"
   ]
  },
  {
   "cell_type": "code",
   "execution_count": null,
   "metadata": {},
   "outputs": [],
   "source": [
    "class sklearn.svm.SVC(C=1.0, # Regularization parameter\n",
    "                      kernel='rbf', degree=3, gamma='scale', coef0=0.0,\n",
    "                      shrinking=True, probability=False, tol=0.001,\n",
    "                      cache_size=200, class_weight=None, verbose=False,\n",
    "                      max_iter=- 1, decision_function_shape='ovr',\n",
    "                      break_ties=False, random_state=None)"
   ]
  },
  {
   "cell_type": "markdown",
   "metadata": {},
   "source": [
    "## к вопросу о lgb"
   ]
  },
  {
   "cell_type": "code",
   "execution_count": 92,
   "metadata": {},
   "outputs": [
    {
     "data": {
      "text/plain": [
       "((100000, 20), (100000,))"
      ]
     },
     "execution_count": 92,
     "metadata": {},
     "output_type": "execute_result"
    }
   ],
   "source": [
    "X = np.random.rand(100000, 20)\n",
    "y = (X[:,0] + X[:,1])*(X[:,2] - X[:, 3])\n",
    "X.shape, y.shape"
   ]
  },
  {
   "cell_type": "code",
   "execution_count": 93,
   "metadata": {},
   "outputs": [
    {
     "name": "stdout",
     "output_type": "stream",
     "text": [
      "CPU times: user 3 µs, sys: 0 ns, total: 3 µs\n",
      "Wall time: 6.2 µs\n",
      "rmse = 0.02065529588662666\n"
     ]
    }
   ],
   "source": [
    "%time\n",
    "import lightgbm as lgb\n",
    "\n",
    "params = {'objective': 'regression',\n",
    "          'boosting_type': 'gbdt',\n",
    "          'learning_rate': 0.1}\n",
    "\n",
    "cv_results = lgb.cv(params,\n",
    "                    lgb.Dataset(X, y),\n",
    "                    num_boost_round=100,\n",
    "                    nfold=10, # cv.split(X), # 10,\n",
    "                    metrics='rmse',\n",
    "                    stratified=False\n",
    "                    )\n",
    "\n",
    "print (f\"rmse = {cv_results['rmse-mean'][99]}\")"
   ]
  },
  {
   "cell_type": "code",
   "execution_count": 94,
   "metadata": {},
   "outputs": [
    {
     "data": {
      "text/plain": [
       "(0, 0.4)"
      ]
     },
     "execution_count": 94,
     "metadata": {},
     "output_type": "execute_result"
    },
    {
     "data": {
      "image/png": "[encoded data removed]",
      "text/plain": [
       "<Figure size 504x216 with 1 Axes>"
      ]
     },
     "metadata": {},
     "output_type": "display_data"
    }
   ],
   "source": [
    "plt.figure(figsize=(7, 3))\n",
    "plt.plot(cv_results['rmse-mean'], lw=2, c='#000099')\n",
    "plt.xlabel('итерации')\n",
    "plt.ylabel('RMSE')\n",
    "plt.grid(lw=2)\n",
    "plt.xlim([0, 100])\n",
    "plt.ylim([0, 0.4])"
   ]
  },
  {
   "cell_type": "code",
   "execution_count": 95,
   "metadata": {},
   "outputs": [
    {
     "name": "stdout",
     "output_type": "stream",
     "text": [
      "CPU times: user 2 µs, sys: 0 ns, total: 2 µs\n",
      "Wall time: 5.96 µs\n",
      "rmse = 0.020629265953391353\n"
     ]
    }
   ],
   "source": [
    "%time\n",
    "\n",
    "from sklearn.model_selection import cross_val_score\n",
    "from sklearn.model_selection import KFold\n",
    "\n",
    "model = lgb.LGBMRegressor() # модель\n",
    "cv = KFold(n_splits=10, random_state=1) # способ контроля\n",
    "\n",
    "scores = cross_val_score(model, X, y, cv=cv, scoring='neg_root_mean_squared_error')\n",
    "print (f'rmse = {-mean(scores)}')"
   ]
  },
  {
   "cell_type": "code",
   "execution_count": 96,
   "metadata": {},
   "outputs": [
    {
     "data": {
      "text/plain": [
       "LGBMRegressor(boosting_type='gbdt', class_weight=None, colsample_bytree=1.0,\n",
       "              importance_type='split', learning_rate=0.1, max_depth=-1,\n",
       "              min_child_samples=20, min_child_weight=0.001, min_split_gain=0.0,\n",
       "              n_estimators=100, n_jobs=-1, num_leaves=31, objective=None,\n",
       "              random_state=None, reg_alpha=0.0, reg_lambda=0.0, silent=True,\n",
       "              subsample=1.0, subsample_for_bin=200000, subsample_freq=0)"
      ]
     },
     "execution_count": 96,
     "metadata": {},
     "output_type": "execute_result"
    }
   ],
   "source": [
    "lgb.LGBMRegressor()"
   ]
  },
  {
   "cell_type": "code",
   "execution_count": 97,
   "metadata": {},
   "outputs": [
    {
     "name": "stdout",
     "output_type": "stream",
     "text": [
      "CPU times: user 7 µs, sys: 1 µs, total: 8 µs\n",
      "Wall time: 6.2 µs\n",
      "rmse = 0.02065176102281662\n"
     ]
    }
   ],
   "source": [
    "%time\n",
    "import lightgbm as lgb\n",
    "# параметры модели\n",
    "params = {'objective': 'regression',\n",
    "          'boosting_type': 'gbdt',\n",
    "          'learning_rate': 0.1}\n",
    "# контроль\n",
    "cv_results = lgb.cv(params,\n",
    "                    lgb.Dataset(X, y),\n",
    "                    num_boost_round=100,\n",
    "                    folds=cv,\n",
    "                    metrics='rmse',\n",
    "                    # stratified=False\n",
    "                    )\n",
    "\n",
    "print (f\"rmse = {cv_results['rmse-mean'][-1]}\")"
   ]
  },
  {
   "cell_type": "markdown",
   "metadata": {},
   "source": [
    "## Пример с дисбалансом"
   ]
  },
  {
   "cell_type": "code",
   "execution_count": 86,
   "metadata": {},
   "outputs": [
    {
     "name": "stdout",
     "output_type": "stream",
     "text": [
      "0 train: [1 2 5 6 7 8 9] test: [0 3 4]\n",
      "1 train: [0 2 3 4 7 8 9] test: [1 5 6]\n",
      "2 train: [0 1 3 4 5 6 8 9] test: [2 7]\n",
      "3 train: [0 1 2 3 4 5 6 7] test: [8 9]\n"
     ]
    }
   ],
   "source": [
    "from sklearn.model_selection import StratifiedKFold\n",
    "\n",
    "skf = StratifiedKFold(n_splits=4, random_state=1, shuffle=False)\n",
    "x = np.arange(10)\n",
    "y = [1,1,1,0,0,0,0,0,0,0]\n",
    "\n",
    "for i, (train_index, test_index) in enumerate(skf.split(x, y)):\n",
    "    print (i, 'train:', train_index, 'test:', test_index)"
   ]
  }
 ],
 "metadata": {
  "kernelspec": {
   "display_name": "Python 3",
   "language": "python",
   "name": "python3"
  },
  "language_info": {
   "codemirror_mode": {
    "name": "ipython",
    "version": 3
   },
   "file_extension": ".py",
   "mimetype": "text/x-python",
   "name": "python",
   "nbconvert_exporter": "python",
   "pygments_lexer": "ipython3",
   "version": "3.7.6"
  }
 },
 "nbformat": 4,
 "nbformat_minor": 4
}
